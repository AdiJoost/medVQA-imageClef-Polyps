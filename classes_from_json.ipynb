{
 "cells": [
  {
   "cell_type": "code",
   "execution_count": 143,
   "metadata": {},
   "outputs": [],
   "source": [
    "import config\n",
    "import pathlib\n",
    "import json"
   ]
  },
  {
   "cell_type": "code",
   "execution_count": 133,
   "metadata": {},
   "outputs": [],
   "source": [
    "labels_json_path = list(pathlib.Path(config.data_raw_dev).rglob(\"*.json\"))[0]"
   ]
  },
  {
   "cell_type": "code",
   "execution_count": 134,
   "metadata": {},
   "outputs": [],
   "source": [
    "with open(labels_json_path, \"r\") as f:\n",
    "    data = json.load(f)"
   ]
  },
  {
   "cell_type": "markdown",
   "metadata": {},
   "source": [
    "## Not all of the questions are for Task 1\n",
    "\n",
    "for example\n",
    "\n",
    "  {'Question': 'Where exactly in the image is the instrument located?',\n",
    "   'AnswerType': 'segmentation',\n",
    "   'Answer': 'clb0lbwzadoyc086u0brshvx5_mask.png'}\n",
    "\n",
    "   is not "
   ]
  },
  {
   "cell_type": "code",
   "execution_count": 135,
   "metadata": {},
   "outputs": [],
   "source": [
    "questions_to_be_answered = [\"What type of procedure is the image taken from?\",\n",
    "\"How many instrumnets are in the image?\",\n",
    "\"Have all polyps been removed?\",\n",
    "\"Where in the image is the abnormality?\",\n",
    "\"Is this finding easy to detect?\",\n",
    "\"Where in the image is the instrument?\",\n",
    "\"Is there a green/black box artifact?\",\n",
    "\"Are there any abnormalities in the image?\",\n",
    "\"Is there text?\",\n",
    "\"Are there any anatomical landmarks in the image?\",\n",
    "\"What color is the abnormality?\",\n",
    "\"Are there any instruments in the image?\",\n",
    "\"What color is the anatomical landmark?\",\n",
    "\"Where in the image is the anatomical landmark?\",\n",
    "\"How many findings are present?\",\n",
    "\"What is the size of the polyp?\",\n",
    "\"How many polyps are in the image?\",\n",
    "\"What type of polyp is present?\"]"
   ]
  },
  {
   "cell_type": "code",
   "execution_count": 136,
   "metadata": {},
   "outputs": [],
   "source": [
    "question_answers = {}\n",
    "for image in data:\n",
    "    for label in image[\"Labels\"]:\n",
    "        if label[\"Question\"] in questions_to_be_answered:\n",
    "            if label[\"Question\"] not in question_answers:\n",
    "                question_answers[label[\"Question\"]] = []\n",
    "            \n",
    "            # Add answers to the question , then make sure it wasn't added multiple times\n",
    "            question_answers[label[\"Question\"]] +=  [label[\"Question\"] + \"_\" + answer for answer in label[\"Answer\"]]  \n",
    "            question_answers[label[\"Question\"]] = list(set(question_answers[label[\"Question\"]]))"
   ]
  },
  {
   "cell_type": "markdown",
   "metadata": {},
   "source": [
    "Answers seem good, besides that there are two colors in \"How many findings are present?\""
   ]
  },
  {
   "cell_type": "code",
   "execution_count": 137,
   "metadata": {},
   "outputs": [],
   "source": [
    "# for image in data:\n",
    "#     for label in image[\"Labels\"]:\n",
    "#         if label[\"Question\"] in questions_to_be_answered:\n",
    "#             if label[\"Question\"] == \"How many findings are present?\":\n",
    "#                 print(image[\"ImageID\"], label[\"Answer\"])"
   ]
  },
  {
   "cell_type": "markdown",
   "metadata": {},
   "source": [
    "There are some bad labels in there...\n",
    "How many is not a question you can answer with pink, yellow \n",
    "But we'll just leave it in for now, the model should never give it as an answer. probably"
   ]
  },
  {
   "cell_type": "code",
   "execution_count": 138,
   "metadata": {},
   "outputs": [
    {
     "data": {
      "text/plain": [
       "['Are there any abnormalities in the image?_Ulcerative colitis',\n",
       " 'Are there any abnormalities in the image?_Oesophagitis',\n",
       " 'Are there any abnormalities in the image?_Polyp',\n",
       " 'Are there any abnormalities in the image?_Barretts',\n",
       " 'Are there any abnormalities in the image?_No',\n",
       " 'Are there any anatomical landmarks in the image?_Pylorus',\n",
       " 'Are there any anatomical landmarks in the image?_Ileum',\n",
       " 'Are there any anatomical landmarks in the image?_No',\n",
       " 'Are there any anatomical landmarks in the image?_Cecum',\n",
       " 'Are there any anatomical landmarks in the image?_Z-line',\n",
       " 'Are there any anatomical landmarks in the image?_Not relevant',\n",
       " 'Are there any instruments in the image?_Injection needle',\n",
       " 'Are there any instruments in the image?_No',\n",
       " 'Are there any instruments in the image?_Tube',\n",
       " 'Are there any instruments in the image?_Polyp snare',\n",
       " 'Are there any instruments in the image?_Biopsy forceps',\n",
       " 'Are there any instruments in the image?_Metal clip',\n",
       " 'Are there any instruments in the image?_Not relevant',\n",
       " 'Have all polyps been removed?_No',\n",
       " 'Have all polyps been removed?_Not relevant',\n",
       " 'Have all polyps been removed?_Yes',\n",
       " 'How many findings are present?_4',\n",
       " 'How many findings are present?_2',\n",
       " 'How many findings are present?_5',\n",
       " 'How many findings are present?_0',\n",
       " 'How many findings are present?_3',\n",
       " 'How many findings are present?_6',\n",
       " 'How many findings are present?_Yellow',\n",
       " 'How many findings are present?_Pink',\n",
       " 'How many findings are present?_16',\n",
       " 'How many findings are present?_1',\n",
       " 'How many instrumnets are in the image?_1',\n",
       " 'How many instrumnets are in the image?_3',\n",
       " 'How many instrumnets are in the image?_',\n",
       " 'How many instrumnets are in the image?_2',\n",
       " 'How many instrumnets are in the image?_0',\n",
       " 'How many polyps are in the image?_2',\n",
       " 'How many polyps are in the image?_0',\n",
       " 'How many polyps are in the image?_6',\n",
       " 'How many polyps are in the image?_1',\n",
       " 'How many polyps are in the image?_4',\n",
       " 'How many polyps are in the image?_5',\n",
       " 'How many polyps are in the image?_3',\n",
       " 'How many polyps are in the image?_16',\n",
       " 'Is there text?_No',\n",
       " 'Is there text?_Yes',\n",
       " 'Is this finding easy to detect?_No',\n",
       " 'Is this finding easy to detect?_Not relevant',\n",
       " 'Is this finding easy to detect?_Yes',\n",
       " 'What color is the abnormality?_Purple',\n",
       " 'What color is the abnormality?_Yellow',\n",
       " 'What color is the abnormality?_Orange',\n",
       " 'What color is the abnormality?_Ink',\n",
       " 'What color is the abnormality?_grey',\n",
       " 'What color is the abnormality?_Grey',\n",
       " 'What color is the abnormality?_White',\n",
       " 'What color is the abnormality?_Pale Pink',\n",
       " 'What color is the abnormality?_Pink/Red',\n",
       " 'What color is the abnormality?_Not relevant',\n",
       " 'What color is the abnormality?_Blue',\n",
       " 'What color is the abnormality?_brown',\n",
       " 'What color is the abnormality?_purple',\n",
       " 'What color is the abnormality?_burgundy',\n",
       " 'What color is the abnormality?_Green',\n",
       " 'What color is the abnormality?_Pink',\n",
       " 'What color is the abnormality?_Black',\n",
       " 'What color is the abnormality?_Violet',\n",
       " 'What color is the abnormality?_Brown',\n",
       " 'What color is the abnormality?_Red',\n",
       " 'What color is the anatomical landmark?_grey',\n",
       " 'What color is the anatomical landmark?_Not relevant',\n",
       " 'What color is the anatomical landmark?_Pink',\n",
       " 'What color is the anatomical landmark?_Yellow',\n",
       " 'What color is the anatomical landmark?_Red',\n",
       " 'What color is the anatomical landmark?_White',\n",
       " 'What color is the anatomical landmark?_brown',\n",
       " 'What is the size of the polyp?_11-20mm',\n",
       " 'What is the size of the polyp?_>20mm',\n",
       " 'What is the size of the polyp?_5-10mm',\n",
       " 'What is the size of the polyp?_< 5mm',\n",
       " 'What is the size of the polyp?_Not relevant',\n",
       " 'What type of polyp is present?_Paris iia',\n",
       " 'What type of polyp is present?_Not relevant',\n",
       " 'What type of polyp is present?_Paris is',\n",
       " 'What type of polyp is present?_Paris ip',\n",
       " 'What type of procedure is the image taken from?_Colonoscopy',\n",
       " 'What type of procedure is the image taken from?_Gastroscopy',\n",
       " 'Where in the image is the abnormality?_Lower-right',\n",
       " 'Where in the image is the abnormality?_Lower-left',\n",
       " 'Where in the image is the abnormality?_Upper-left',\n",
       " 'Where in the image is the abnormality?_Not relevant',\n",
       " 'Where in the image is the abnormality?_Upper-center',\n",
       " 'Where in the image is the abnormality?_Upper-right',\n",
       " 'Where in the image is the abnormality?_Lower-center',\n",
       " 'Where in the image is the abnormality?_Center',\n",
       " 'Where in the image is the abnormality?_Center-left',\n",
       " 'Where in the image is the abnormality?_Center-right',\n",
       " 'Where in the image is the anatomical landmark?_Not relevant',\n",
       " 'Where in the image is the anatomical landmark?_Lower-rigth',\n",
       " 'Where in the image is the anatomical landmark?_Center-left',\n",
       " 'Where in the image is the anatomical landmark?_Center',\n",
       " 'Where in the image is the anatomical landmark?_Upper-right',\n",
       " 'Where in the image is the anatomical landmark?_Lower-left',\n",
       " 'Where in the image is the anatomical landmark?_Upper-left',\n",
       " 'Where in the image is the anatomical landmark?_Lower-center',\n",
       " 'Where in the image is the anatomical landmark?_Center-right',\n",
       " 'Where in the image is the anatomical landmark?_Upper-center',\n",
       " 'Where in the image is the instrument?_Center-left',\n",
       " 'Where in the image is the instrument?_Center-right',\n",
       " 'Where in the image is the instrument?_Upper-right',\n",
       " 'Where in the image is the instrument?_Upper-center',\n",
       " 'Where in the image is the instrument?_Center',\n",
       " 'Where in the image is the instrument?_Lower-left',\n",
       " 'Where in the image is the instrument?_Lower-right',\n",
       " 'Where in the image is the instrument?_Upper-left',\n",
       " 'Where in the image is the instrument?_Lower-center',\n",
       " 'Where in the image is the instrument?_Not relevant']"
      ]
     },
     "execution_count": 138,
     "metadata": {},
     "output_type": "execute_result"
    }
   ],
   "source": [
    "labels = []\n",
    "answers = list(question_answers.values())\n",
    "for q in answers:\n",
    "    labels.extend(q)\n",
    "labels"
   ]
  },
  {
   "cell_type": "markdown",
   "metadata": {},
   "source": [
    "# Encoding"
   ]
  },
  {
   "cell_type": "markdown",
   "metadata": {},
   "source": [
    "For example if an image has the question - answer\n",
    " 'Are there any instruments in the image?_Polyp snare',\n",
    " 'Are there any instruments in the image?_Biopsy forceps'\n",
    "\n",
    "There should be a vector with those two values = 1"
   ]
  },
  {
   "cell_type": "code",
   "execution_count": 139,
   "metadata": {},
   "outputs": [],
   "source": [
    "sample_labels = [\n",
    "    ['What color is the abnormality?_Yellow', 'What is the size of the polyp?_< 5mm'],\n",
    "    ['What color is the anatomical landmark?_Red', 'What is the size of the polyp?_11-20mm'],\n",
    "    ['What color is the abnormality?_grey', 'What color is the anatomical landmark?_White']\n",
    "]"
   ]
  },
  {
   "cell_type": "code",
   "execution_count": 140,
   "metadata": {},
   "outputs": [
    {
     "data": {
      "text/plain": [
       "array(['Are there any abnormalities in the image?_Barretts',\n",
       "       'Are there any abnormalities in the image?_No',\n",
       "       'Are there any abnormalities in the image?_Oesophagitis',\n",
       "       'Are there any abnormalities in the image?_Polyp',\n",
       "       'Are there any abnormalities in the image?_Ulcerative colitis',\n",
       "       'Are there any anatomical landmarks in the image?_Cecum',\n",
       "       'Are there any anatomical landmarks in the image?_Ileum',\n",
       "       'Are there any anatomical landmarks in the image?_No',\n",
       "       'Are there any anatomical landmarks in the image?_Not relevant',\n",
       "       'Are there any anatomical landmarks in the image?_Pylorus'],\n",
       "      dtype=object)"
      ]
     },
     "execution_count": 140,
     "metadata": {},
     "output_type": "execute_result"
    }
   ],
   "source": [
    "from sklearn.preprocessing import MultiLabelBinarizer\n",
    "mlb = MultiLabelBinarizer()\n",
    "mlb.fit([labels])\n",
    "mlb.classes_[0:10]"
   ]
  },
  {
   "cell_type": "code",
   "execution_count": 141,
   "metadata": {},
   "outputs": [
    {
     "data": {
      "text/plain": [
       "array([[0, 0, 0, 0, 0, 0, 0, 0, 0, 0, 0, 0, 0, 0, 0, 0, 0, 0, 0, 0, 0, 0,\n",
       "        0, 0, 0, 0, 0, 0, 0, 0, 0, 0, 0, 0, 0, 0, 0, 0, 0, 0, 0, 0, 0, 0,\n",
       "        0, 0, 0, 0, 0, 0, 0, 0, 0, 0, 0, 0, 0, 0, 0, 0, 0, 0, 0, 0, 1, 0,\n",
       "        0, 0, 0, 0, 0, 0, 0, 0, 0, 0, 0, 0, 1, 0, 0, 0, 0, 0, 0, 0, 0, 0,\n",
       "        0, 0, 0, 0, 0, 0, 0, 0, 0, 0, 0, 0, 0, 0, 0, 0, 0, 0, 0, 0, 0, 0,\n",
       "        0, 0, 0, 0, 0, 0, 0],\n",
       "       [0, 0, 0, 0, 0, 0, 0, 0, 0, 0, 0, 0, 0, 0, 0, 0, 0, 0, 0, 0, 0, 0,\n",
       "        0, 0, 0, 0, 0, 0, 0, 0, 0, 0, 0, 0, 0, 0, 0, 0, 0, 0, 0, 0, 0, 0,\n",
       "        0, 0, 0, 0, 0, 0, 0, 0, 0, 0, 0, 0, 0, 0, 0, 0, 0, 0, 0, 0, 0, 0,\n",
       "        0, 0, 0, 0, 0, 1, 0, 0, 0, 0, 1, 0, 0, 0, 0, 0, 0, 0, 0, 0, 0, 0,\n",
       "        0, 0, 0, 0, 0, 0, 0, 0, 0, 0, 0, 0, 0, 0, 0, 0, 0, 0, 0, 0, 0, 0,\n",
       "        0, 0, 0, 0, 0, 0, 0],\n",
       "       [0, 0, 0, 0, 0, 0, 0, 0, 0, 0, 0, 0, 0, 0, 0, 0, 0, 0, 0, 0, 0, 0,\n",
       "        0, 0, 0, 0, 0, 0, 0, 0, 0, 0, 0, 0, 0, 0, 0, 0, 0, 0, 0, 0, 0, 0,\n",
       "        0, 0, 0, 0, 0, 0, 0, 0, 0, 0, 0, 0, 0, 0, 0, 0, 0, 0, 0, 0, 0, 0,\n",
       "        0, 1, 0, 0, 0, 0, 1, 0, 0, 0, 0, 0, 0, 0, 0, 0, 0, 0, 0, 0, 0, 0,\n",
       "        0, 0, 0, 0, 0, 0, 0, 0, 0, 0, 0, 0, 0, 0, 0, 0, 0, 0, 0, 0, 0, 0,\n",
       "        0, 0, 0, 0, 0, 0, 0]])"
      ]
     },
     "execution_count": 141,
     "metadata": {},
     "output_type": "execute_result"
    }
   ],
   "source": [
    "encoded_samples  = mlb.transform(sample_labels)\n",
    "encoded_samples "
   ]
  },
  {
   "cell_type": "code",
   "execution_count": 142,
   "metadata": {},
   "outputs": [
    {
     "data": {
      "text/plain": [
       "[('What color is the abnormality?_Yellow',\n",
       "  'What is the size of the polyp?_< 5mm'),\n",
       " ('What color is the anatomical landmark?_Red',\n",
       "  'What is the size of the polyp?_11-20mm'),\n",
       " ('What color is the abnormality?_grey',\n",
       "  'What color is the anatomical landmark?_White')]"
      ]
     },
     "execution_count": 142,
     "metadata": {},
     "output_type": "execute_result"
    }
   ],
   "source": [
    "answer = mlb.inverse_transform(encoded_samples)\n",
    "answer"
   ]
  }
 ],
 "metadata": {
  "kernelspec": {
   "display_name": "medvqa",
   "language": "python",
   "name": "python3"
  },
  "language_info": {
   "codemirror_mode": {
    "name": "ipython",
    "version": 3
   },
   "file_extension": ".py",
   "mimetype": "text/x-python",
   "name": "python",
   "nbconvert_exporter": "python",
   "pygments_lexer": "ipython3",
   "version": "3.11.5"
  }
 },
 "nbformat": 4,
 "nbformat_minor": 2
}
