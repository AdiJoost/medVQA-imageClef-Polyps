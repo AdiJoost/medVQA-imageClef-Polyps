{
 "cells": [
  {
   "cell_type": "code",
   "execution_count": 1,
   "metadata": {},
   "outputs": [
    {
     "name": "stderr",
     "output_type": "stream",
     "text": [
      "2024-11-28 13:10:07.453497: I tensorflow/core/util/port.cc:153] oneDNN custom operations are on. You may see slightly different numerical results due to floating-point round-off errors from different computation orders. To turn them off, set the environment variable `TF_ENABLE_ONEDNN_OPTS=0`.\n",
      "2024-11-28 13:10:07.465940: E external/local_xla/xla/stream_executor/cuda/cuda_fft.cc:477] Unable to register cuFFT factory: Attempting to register factory for plugin cuFFT when one has already been registered\n",
      "WARNING: All log messages before absl::InitializeLog() is called are written to STDERR\n",
      "E0000 00:00:1732795807.481345 2367689 cuda_dnn.cc:8310] Unable to register cuDNN factory: Attempting to register factory for plugin cuDNN when one has already been registered\n",
      "E0000 00:00:1732795807.485890 2367689 cuda_blas.cc:1418] Unable to register cuBLAS factory: Attempting to register factory for plugin cuBLAS when one has already been registered\n",
      "2024-11-28 13:10:07.502114: I tensorflow/core/platform/cpu_feature_guard.cc:210] This TensorFlow binary is optimized to use available CPU instructions in performance-critical operations.\n",
      "To enable the following instructions: AVX2 AVX512F AVX512_VNNI FMA, in other operations, rebuild TensorFlow with the appropriate compiler flags.\n"
     ]
    },
    {
     "name": "stdout",
     "output_type": "stream",
     "text": [
      "Find logs at /home/schafhdaniel@edu.local/med/medVQA-imageClef-Polyps/models/logs/20241128-131009\n"
     ]
    }
   ],
   "source": [
    "import torch\n",
    "from torch import nn\n",
    "from datahandling import get_dev_data\n",
    "from tqdm import tqdm\n",
    "import config \n",
    "from models.vqa_model import VQA\n",
    "from os.path import join\n",
    "import numpy as np\n",
    "from sklearn.metrics import accuracy_score, precision_score, recall_score, f1_score\n",
    "import pandas as pd\n",
    "from datahandling import load_multilabel_binarizer, QUESTIONS_TO_BE_ANSWERED"
   ]
  },
  {
   "cell_type": "code",
   "execution_count": null,
   "metadata": {},
   "outputs": [],
   "source": [
    "# Model name is the filename of the model in the trained models folder, model id is the id of the model on huggingface\n",
    "# MODEL_NAME = \"vqa_model_dinov2.pth\"\n",
    "# model_id = \"facebook/dinov2-large\"\n",
    "\n",
    "# MODEL_NAME = \"vqa_aimv2.pth\"\n",
    "# model_id = \"apple/aimv2-large-patch14-224\"\n",
    "\n",
    "MODEL_NAME = \"vqa_beit.pth\"\n",
    "model_id = \"microsoft/beit-base-patch16-224-pt22k-ft22k\"\n",
    "\n",
    "mlb = load_multilabel_binarizer()\n",
    "\n",
    "# Dont change this unless there are mor answers possible than before\n",
    "NUM_LABELS = len(mlb.classes_)\n",
    "\n",
    "\n",
    "def evaluation():\n",
    "    device = torch.device(\"cuda\" if torch.cuda.is_available() else \"cpu\")\n",
    "    print(f\"Running on device: {device}\")\n",
    "\n",
    "    model = load_model(device)\n",
    "    _, _, test_loader = get_dev_data(image_processor_model_id=model_id, debug_mode=False)  \n",
    "    criterion = nn.BCEWithLogitsLoss()\n",
    "\n",
    "    loss = 0\n",
    "    y_pred = []\n",
    "    y_true = []\n",
    "\n",
    "    with torch.no_grad():\n",
    "        for batch in tqdm(test_loader, desc=\"Testing\"):\n",
    "            (images, questions, question_attention_mask), labels = batch\n",
    "            images, questions, question_attention_mask, labels = images.to(device), questions.to(device), question_attention_mask.to(device), labels.to(device)\n",
    "            \n",
    "            outputs = model(images, questions, question_attention_mask)\n",
    "            loss = criterion(outputs, labels)\n",
    "            loss += loss.item()\n",
    "            \n",
    "            y_pred.append(outputs)\n",
    "            y_true.append(labels)\n",
    "\n",
    "    y_pred = torch.cat(y_pred)\n",
    "    y_true = torch.cat(y_true)\n",
    "    \n",
    "    \n",
    "    return y_true, y_pred, device, loss / len(test_loader)\n",
    "   \n",
    "\n",
    "\n",
    "def load_model(device) -> torch.nn.Module:\n",
    "    model = VQA(vision_model_id=model_id)\n",
    "    model.load_state_dict(torch.load(join(config.trained_model_path, MODEL_NAME), map_location=device , weights_only=True))\n",
    "    model.to(device) \n",
    "    model.eval() \n",
    "    return model\n"
   ]
  },
  {
   "cell_type": "code",
   "execution_count": null,
   "metadata": {},
   "outputs": [],
   "source": [
    "y_true, y_pred, device, test_loss = evaluation()"
   ]
  },
  {
   "cell_type": "code",
   "execution_count": null,
   "metadata": {},
   "outputs": [],
   "source": [
    "from collections import defaultdict\n",
    "\n",
    "idx_without = []\n",
    "\n",
    "\n",
    "# save which indices of y_true/y_preds are for the questions\n",
    "per_question = dict()\n",
    "\n",
    "results = {\n",
    "    \"question\": [],\n",
    "    \"accuracy\": [],\n",
    "    \"precision\": [],\n",
    "    \"recall\": [],\n",
    "    \"f1\": []\n",
    "}\n",
    "\n",
    "for answer in mlb.classes_:\n",
    "    question = answer.split(\"_\")[0]\n",
    "    per_question[question] = []\n",
    "    \n",
    "    \n",
    "for idx, truth in enumerate(y_true):\n",
    "    correct_answers = mlb.inverse_transform(np.array([truth]))[0]\n",
    "\n",
    "    if len(correct_answers) > 0:\n",
    "        first_answer = correct_answers[0]\n",
    "        \n",
    "        key = first_answer.split(\"_\")[0]\n",
    "        per_question[key].append(idx)\n",
    "    else:\n",
    "        idx_without.append(idx)\n",
    "# from y_preds, y_true get the indices per question, then calculate the metrics on these instances\n",
    "\n",
    "\n",
    "for question, indexes in per_question.items():\n",
    "    results[\"question\"].append(question)\n",
    "    results[\"accuracy\"].append(round(accuracy_score(y_true[indexes], torch.sigmoid(y_pred[indexes])>=0.5),4))\n",
    "    results[\"precision\"].append(round(precision_score(y_true[indexes], torch.sigmoid(y_pred[indexes])>=0.5, average=\"samples\", zero_division=0), 4))\n",
    "    results[\"recall\"].append(round(recall_score(y_true[indexes], torch.sigmoid(y_pred[indexes])>=0.5, average=\"samples\", zero_division=0), 4))\n",
    "    results[\"f1\"].append(round(f1_score(y_true[indexes], torch.sigmoid(y_pred[indexes])>=0.5, average=\"samples\", zero_division=0), 4))"
   ]
  },
  {
   "cell_type": "code",
   "execution_count": null,
   "metadata": {},
   "outputs": [],
   "source": [
    "idx_without.__len__() # these somehow return () idk why"
   ]
  },
  {
   "cell_type": "code",
   "execution_count": null,
   "metadata": {},
   "outputs": [],
   "source": [
    "df = pd.DataFrame.from_dict(results)"
   ]
  },
  {
   "cell_type": "code",
   "execution_count": null,
   "metadata": {},
   "outputs": [],
   "source": [
    "df"
   ]
  },
  {
   "cell_type": "code",
   "execution_count": null,
   "metadata": {},
   "outputs": [],
   "source": [
    "\n",
    "results = f\"\"\" Aggregated \n",
    "    accuracy: {df.accuracy.mean():.4f},  \n",
    "    precision: {df.precision.mean():.4f},  \n",
    "    recall: {df.recall.mean():.4f}\n",
    "    F1 Score: {df.f1.mean():.4f},  \n",
    "\"\"\"\n",
    "\n",
    "print(results)"
   ]
  },
  {
   "cell_type": "code",
   "execution_count": null,
   "metadata": {},
   "outputs": [],
   "source": [
    "\n",
    "results = f\"\"\" Performance on Dev test set\n",
    "    accuracy: {accuracy_score(y_true, torch.sigmoid(y_pred)>=0.5):.4f},  \n",
    "    precision: {precision_score(y_true, torch.sigmoid(y_pred)>=0.5, average=\"samples\", zero_division=0):.4f},  \n",
    "    recall: {recall_score(y_true, torch.sigmoid(y_pred)>=0.5, average=\"samples\", zero_division=0):.4f}\n",
    "    F1 Score: {f1_score(y_true, torch.sigmoid(y_pred)>=0.5, average=\"samples\", zero_division=0):.4f},  \n",
    "\"\"\"    \n",
    "\n",
    "print(results)"
   ]
  },
  {
   "cell_type": "markdown",
   "metadata": {},
   "source": [
    "under the table insert following output for the summary statistics"
   ]
  },
  {
   "cell_type": "code",
   "execution_count": null,
   "metadata": {},
   "outputs": [],
   "source": [
    "\n",
    "summary_stats = \"\"\" \n",
    "\\\\hline\n",
    "\\\\textbf{All} &  \"\"\" + f\" \\\\textbf{{{df.accuracy.mean():.4f}}}  & \\\\textbf{{{df.precision.mean():.4f}}} & \\\\textbf{{{df.recall.mean():.4f}}} & \\\\textbf{{{df.f1.mean():.4f}}}\" + \"\"\" \\\\\\\\\n",
    "\\\\hline\n",
    "\"\"\"\n"
   ]
  },
  {
   "cell_type": "code",
   "execution_count": null,
   "metadata": {},
   "outputs": [],
   "source": [
    "latex_table = df.to_latex(index=False, float_format=\"%.4f\")"
   ]
  },
  {
   "cell_type": "code",
   "execution_count": null,
   "metadata": {},
   "outputs": [],
   "source": [
    "insertion_point = latex_table.rfind(r\"\\bottomrule\")\n",
    "latex_table = latex_table[:insertion_point] + summary_stats + latex_table[insertion_point:]\n",
    "\n",
    "new_header = r\"\"\"\n",
    "\\begin{tabular}{lcccc}\n",
    "\\toprule\n",
    "\\textbf{question} & \\textbf{accuracy} & \\textbf{precision} & \\textbf{recall} & \\textbf{f1} \\\\\n",
    "\\hline\n",
    "\\midrule\n",
    "\"\"\"\n",
    "\n",
    "midrule_index = latex_table.find(r\"\\midrule\")\n",
    "modified_table = new_header + latex_table[midrule_index + len(r\"\\midrule\"):]\n"
   ]
  },
  {
   "cell_type": "code",
   "execution_count": null,
   "metadata": {},
   "outputs": [],
   "source": [
    "print(modified_table)"
   ]
  }
 ],
 "metadata": {
  "kernelspec": {
   "display_name": "medvqa",
   "language": "python",
   "name": "python3"
  },
  "language_info": {
   "codemirror_mode": {
    "name": "ipython",
    "version": 3
   },
   "file_extension": ".py",
   "mimetype": "text/x-python",
   "name": "python",
   "nbconvert_exporter": "python",
   "pygments_lexer": "ipython3",
   "version": "3.12.3"
  }
 },
 "nbformat": 4,
 "nbformat_minor": 2
}
