{
 "cells": [
  {
   "cell_type": "markdown",
   "metadata": {},
   "source": [
    "# Make Dataset\n",
    "x = (Image, Question)\n",
    "y = Answer"
   ]
  },
  {
   "cell_type": "code",
   "execution_count": 21,
   "metadata": {},
   "outputs": [],
   "source": [
    "import config\n",
    "import pathlib\n",
    "import json\n",
    "from sklearn.preprocessing import MultiLabelBinarizer, LabelEncoder\n",
    "import numpy as np"
   ]
  },
  {
   "cell_type": "code",
   "execution_count": 26,
   "metadata": {},
   "outputs": [],
   "source": [
    "questions_to_be_answered = [\"What type of procedure is the image taken from?\",\n",
    "\"How many instrumnets are in the image?\",\n",
    "\"Have all polyps been removed?\",\n",
    "\"Where in the image is the abnormality?\",\n",
    "\"Is this finding easy to detect?\",\n",
    "\"Where in the image is the instrument?\",\n",
    "\"Is there a green/black box artifact?\",\n",
    "\"Are there any abnormalities in the image?\",\n",
    "\"Is there text?\",\n",
    "\"Are there any anatomical landmarks in the image?\",\n",
    "\"What color is the abnormality?\",\n",
    "\"Are there any instruments in the image?\",\n",
    "\"What color is the anatomical landmark?\",\n",
    "\"Where in the image is the anatomical landmark?\",\n",
    "\"How many findings are present?\",\n",
    "\"What is the size of the polyp?\",\n",
    "\"How many polyps are in the image?\",\n",
    "\"What type of polyp is present?\"]"
   ]
  },
  {
   "cell_type": "markdown",
   "metadata": {},
   "source": [
    "## Data Cleaning"
   ]
  },
  {
   "cell_type": "markdown",
   "metadata": {},
   "source": [
    "### Replace misspelled question\n",
    "\"How many instrumnets are in the image?\"\n",
    "\n",
    "-> No, in the submission check script of image clef, the question is also posed with the spelling error. Should be a minimal difference in the encoding anyways"
   ]
  },
  {
   "cell_type": "code",
   "execution_count": 28,
   "metadata": {},
   "outputs": [],
   "source": [
    "# labels_json_path = list(pathlib.Path(config.data_raw_dev).rglob(\"*.json\"))[0]\n",
    "# with open(labels_json_path, \"r\") as f:\n",
    "#     data = json.load(f)\n",
    "    \n",
    "# for image in data:\n",
    "#     for label in image[\"Labels\"]:\n",
    "#         if label[\"Question\"] == \"How many instrumnets are in the image?\":\n",
    "#             label[\"Question\"] = \"How many instruments are in the image?\"\n",
    "            \n",
    "        \n",
    "# with open(labels_json_path, \"w\") as f:\n",
    "#     json.dump(data, f, indent=True)\n",
    "    "
   ]
  },
  {
   "cell_type": "markdown",
   "metadata": {},
   "source": [
    "## Dict with Img, Question, Answer pair for each question\n",
    "In the provided json, not all the images have answers for all the questions"
   ]
  },
  {
   "cell_type": "code",
   "execution_count": 30,
   "metadata": {},
   "outputs": [
    {
     "name": "stdout",
     "output_type": "stream",
     "text": [
      "['Are there any abnormalities in the image?', 'Are there any anatomical landmarks in the image?', 'Are there any instruments in the image?', 'Have all polyps been removed?', 'How many findings are present?', 'How many instrumnets are in the image?', 'How many polyps are in the image?', 'Is there a green/black box artefact?', 'Is there text?', 'Is this finding easy to detect?', 'What color is the abnormality?', 'What color is the anatomical landmark?', 'What is the size of the polyp?', 'What type of polyp is present?', 'What type of procedure is the image taken from?', 'Where in the image is the abnormality?', 'Where in the image is the anatomical landmark?', 'Where in the image is the instrument?', 'Where exactly in the image is the instrument located?']\n",
      "['Are there any abnormalities in the image?', 'Are there any anatomical landmarks in the image?', 'Are there any instruments in the image?', 'Have all polyps been removed?', 'How many findings are present?', 'How many instrumnets are in the image?', 'How many polyps are in the image?', 'Is there a green/black box artefact?', 'Is there text?', 'Is this finding easy to detect?', 'What color is the abnormality?', 'What color is the anatomical landmark?', 'What is the size of the polyp?', 'What type of polyp is present?', 'What type of procedure is the image taken from?', 'Where in the image is the abnormality?', 'Where in the image is the anatomical landmark?', 'Where in the image is the instrument?']\n",
      "[('clb0lbwzadoyc086u0brshvx5', 'How many instrumnets are in the image?', ['1']), ('cla820gl5s3vv071u18ipbr2h', 'How many instrumnets are in the image?', ['0'])]\n"
     ]
    }
   ],
   "source": [
    "labels_json_path = list(pathlib.Path(config.data_raw_dev).rglob(\"*.json\"))[0]\n",
    "with open(labels_json_path, \"r\") as f:\n",
    "    data = json.load(f)\n",
    "    \n",
    "def encode_answer(answers):\n",
    "    answer_binarized = answers\n",
    "    #to do\n",
    "    return answer_binarized\n",
    "\n",
    "no_answer_vector = np.full_like(questions_to_be_answered, fill_value=0, dtype=np.int32)\n",
    "\n",
    "img_q_a = []\n",
    "for image in data[0:2]:\n",
    "    image_id = image[\"ImageID\"]\n",
    "    questions = [label[\"Question\"] for label in image[\"Labels\"]]\n",
    "    answers = [label[\"Answer\"] for label in image[\"Labels\"]]\n",
    "    \n",
    "    # Now do everything for this image\n",
    "    # in order of the questions_to_be_included\n",
    "    # if missing, answer = [0,0,0,0,....] \n",
    "    for q in questions_to_be_answered[1:2]:\n",
    "\n",
    "        if q in questions:\n",
    "            q_index = questions.index(q)\n",
    "            answer = answers[q_index]\n",
    "            answer_vector = encode_answer(answer)\n",
    "        else:\n",
    "            print(q)\n",
    "            print(\"no\")\n",
    "            answer_vector = no_answer_vector\n",
    "        print(questions)\n",
    "        img_q_a.append((image_id, q, answer_vector))\n",
    "            \n",
    "    \n",
    "print(img_q_a)\n",
    "    \n",
    "    "
   ]
  },
  {
   "cell_type": "code",
   "execution_count": null,
   "metadata": {},
   "outputs": [],
   "source": []
  }
 ],
 "metadata": {
  "kernelspec": {
   "display_name": "medvqa",
   "language": "python",
   "name": "python3"
  },
  "language_info": {
   "codemirror_mode": {
    "name": "ipython",
    "version": 3
   },
   "file_extension": ".py",
   "mimetype": "text/x-python",
   "name": "python",
   "nbconvert_exporter": "python",
   "pygments_lexer": "ipython3",
   "version": "3.11.5"
  }
 },
 "nbformat": 4,
 "nbformat_minor": 2
}
